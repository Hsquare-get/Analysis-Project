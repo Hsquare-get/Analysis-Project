{
 "cells": [
  {
   "cell_type": "code",
   "execution_count": 5,
   "metadata": {},
   "outputs": [
    {
     "name": "stdout",
     "output_type": "stream",
     "text": [
      "['2016-07', '2016-08', '2016-09', '2016-10', '2016-11', '2016-12', '2017-01', '2017-02', '2017-03', '2017-04', '2017-05', '2017-06', '2017-07', '2017-08', '2017-09', '2017-10', '2017-11', '2017-12', '2018-01', '2018-02', '2018-03', '2018-04', '2018-05', '2018-06', '2018-07', '2018-08', '2018-09', '2018-10', '2018-11', '2018-12', '2019-01', '2019-02', '2019-03', '2019-04', '2019-05', '2019-06', '2019-07', '2019-08', '2019-09', '2019-10', '2019-11', '2019-12', '2020-01', '2020-02', '2020-03', '2020-04', '2020-05', '2020-06', '2020-07']\n"
     ]
    }
   ],
   "source": [
    "from selenium import webdriver\n",
    "import csv\n",
    "import pandas as pd\n",
    "import time\n",
    "\n",
    "driver = webdriver.Chrome('C:/PyStexam/selenium/chromedriver')\n",
    "\n",
    "# 렌더링이 일찍되면 더 기다리지 않고 다음 코드 수행, 한번만 설정하면 driver를 사용하는 모든 코드에 적용\n",
    "driver.implicitly_wait(3) # 렌더링 끝날때까지 3초 기다리기\n",
    "\n",
    "\n",
    "\n",
    "# 2016.07 ~ 2020.07 49개의 timestamp 생성\n",
    "timestamp = pd.date_range(start='2016-07-01', end=None, periods=49, freq='M')\n",
    "\n",
    "# 필요한 연, 월만 추출하기 위해 timestamp를 period로 변환 \n",
    "period = timestamp.to_period(freq='M')\n",
    "period_str = list(map(str, period))\n",
    "print(period_str)\n",
    "\n",
    "\n",
    "\n",
    "# 2020.07 ~ 2016.07 월별 21개의 순위, 장르, 작품편수, 총 이용건수, 이용점유율\n",
    "for i in range(len(period_str)):\n",
    "    url = 'http://www.kobis.or.kr/kobis/business/stat/online/onlineGenreStat.do?CSRFToken=TyV-jCc2NdIxoa-kJ44yH2L4qSeGZqBVFRemjGFP8zE&loadEnd=0&searchType=search&sSearchYearFrom={0}&sSearchMonthFrom={1}&sSearchYearTo={2}&sSearchMonthTo={3}'.format(period_str[i][0:4], period_str[i][5:7], period_str[i][0:4], period_str[i][5:7])\n",
    "    driver.get(url)\n",
    "    time.sleep(1)\n",
    "    \n",
    "    iptv = []\n",
    "    rank_list = driver.find_elements_by_css_selector('#tbody_0 > tr > td:nth-child(1)')\n",
    "    rank_list.pop() # '합계' 행 제외\n",
    "\n",
    "    genre_list = driver.find_elements_by_css_selector('#tbody_0 > tr > td.tal')\n",
    "\n",
    "    number_of_movie_list = driver.find_elements_by_css_selector('#tbody_0 > tr > td:nth-child(3)')\n",
    "    number_of_movie_list.pop() # 총 이용건수 합계 제외\n",
    "\n",
    "    total_of_uses_list = driver.find_elements_by_css_selector('#tbody_0 > tr > td:nth-child(4)')\n",
    "    total_of_uses_list.pop() # 이용점유율 합계 제외\n",
    "\n",
    "    ratio_list = driver.find_elements_by_css_selector('#tbody_0 > tr > td:nth-child(5)')\n",
    "    for k in range(21):\n",
    "        iptv.append([rank_list[k].text,\n",
    "                     genre_list[k].text,\n",
    "                     number_of_movie_list[k].text,\n",
    "                     total_of_uses_list[k].text,\n",
    "                     ratio_list[k].text])\n",
    "    \n",
    "    # wt : (텍스트) 파일에 기록한다. 파일이 이미 있으면 덮어쓴다\n",
    "    # newline 설정을 안하면 한줄마다 공백있는 줄이 생긴다\n",
    "    # encoding 아규먼트를 주지않으면 ANSI 파일로 저장되고 한글이 깨지지 않는다\n",
    "    file_name = 'C:/PyStexam/Analysis Project/iptv(month)/{}.csv'.format(period_str[i])\n",
    "    with open(file_name, \"wt\", newline=\"\") as f:\n",
    "        writer = csv.writer(f)\n",
    "        writer.writerow(['rank', 'genre', 'number_of_movie', 'total_of_uses', 'ratio'])\n",
    "        for i in range(len(iptv)):\n",
    "            writer.writerow(iptv[i])\n",
    "\n",
    "    time.sleep(1)"
   ]
  }
 ],
 "metadata": {
  "kernelspec": {
   "display_name": "pydatavenv",
   "language": "python",
   "name": "pydatavenv"
  },
  "language_info": {
   "codemirror_mode": {
    "name": "ipython",
    "version": 3
   },
   "file_extension": ".py",
   "mimetype": "text/x-python",
   "name": "python",
   "nbconvert_exporter": "python",
   "pygments_lexer": "ipython3",
   "version": "3.8.5"
  }
 },
 "nbformat": 4,
 "nbformat_minor": 4
}
